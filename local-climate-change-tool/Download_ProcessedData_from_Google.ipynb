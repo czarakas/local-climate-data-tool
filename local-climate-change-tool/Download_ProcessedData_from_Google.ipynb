{
 "cells": [
  {
   "cell_type": "markdown",
   "metadata": {},
   "source": [
    "### Requires your environment to have the following installed:\n",
    "* io\n",
    "* tarfile\n",
    "* oauth2client (not currently in environment file)\n",
    "* apiclient\n",
    "* httplib2\n",
    "* googleapiclient.http"
   ]
  },
  {
   "cell_type": "code",
   "execution_count": 2,
   "metadata": {},
   "outputs": [],
   "source": [
    "import download_file_from_google_drive as import_files\n",
    "print_statements_on = True"
   ]
  },
  {
   "cell_type": "code",
   "execution_count": 3,
   "metadata": {},
   "outputs": [
    {
     "name": "stdout",
     "output_type": "stream",
     "text": [
      " -> getting credentials\n",
      " -> downloading files\n",
      "Download 49%.\n",
      "Download 99%.\n",
      "Download 100%.\n"
     ]
    }
   ],
   "source": [
    "file_to_download='Raw_Historical_Obs' # Processed_Data or Raw_Historical_Obs\n",
    "import_files.download_data_predefined(file_to_download, print_statements_on=True)"
   ]
  },
  {
   "cell_type": "code",
   "execution_count": null,
   "metadata": {},
   "outputs": [],
   "source": [
    "file_to_download='Processed_Data' # Processed_Data or Raw_Historical_Obs\n",
    "import_files.download_data_predefined(file_to_download, print_statements_on=True)"
   ]
  }
 ],
 "metadata": {
  "kernelspec": {
   "display_name": "Python 3",
   "language": "python",
   "name": "python3"
  },
  "language_info": {
   "codemirror_mode": {
    "name": "ipython",
    "version": 3
   },
   "file_extension": ".py",
   "mimetype": "text/x-python",
   "name": "python",
   "nbconvert_exporter": "python",
   "pygments_lexer": "ipython3",
   "version": "3.7.3"
  }
 },
 "nbformat": 4,
 "nbformat_minor": 4
}
