{
 "cells": [
  {
   "cell_type": "markdown",
   "metadata": {},
   "source": [
    "### Requires your environment to have the following installed:\n",
    "* io\n",
    "* tarfile\n",
    "* oauth2client (not currently in environment file)\n",
    "* apiclient\n",
    "* httplib2\n",
    "* googleapiclient.http"
   ]
  },
  {
   "cell_type": "code",
   "execution_count": 1,
   "metadata": {},
   "outputs": [],
   "source": [
    "import download_file_from_google_drive as import_files\n",
    "print_statements_on = True\n",
    "file_to_download='Processed_Data' # Processed_Data or Raw_Historical_Obs"
   ]
  },
  {
   "cell_type": "code",
   "execution_count": null,
   "metadata": {},
   "outputs": [
    {
     "name": "stdout",
     "output_type": "stream",
     "text": [
      " -> getting credentials\n",
      " -> downloading files\n",
      "Download 2%.\n",
      "Download 4%.\n",
      "Download 6%.\n",
      "Download 8%.\n",
      "Download 10%.\n",
      "Download 12%.\n",
      "Download 14%.\n",
      "Download 16%.\n",
      "Download 18%.\n"
     ]
    }
   ],
   "source": [
    "import_files.download_data_predefined(file_to_download, print_statements_on=True)"
   ]
  },
  {
   "cell_type": "code",
   "execution_count": null,
   "metadata": {},
   "outputs": [],
   "source": []
  }
 ],
 "metadata": {
  "kernelspec": {
   "display_name": "Python 3",
   "language": "python",
   "name": "python3"
  },
  "language_info": {
   "codemirror_mode": {
    "name": "ipython",
    "version": 3
   },
   "file_extension": ".py",
   "mimetype": "text/x-python",
   "name": "python",
   "nbconvert_exporter": "python",
   "pygments_lexer": "ipython3",
   "version": "3.8.0"
  }
 },
 "nbformat": 4,
 "nbformat_minor": 4
}
