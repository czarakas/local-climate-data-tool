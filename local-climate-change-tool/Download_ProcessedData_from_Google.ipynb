{
 "cells": [
  {
   "cell_type": "markdown",
   "metadata": {},
   "source": [
    "### Requires your environment to have the following installed:\n",
    "* io\n",
    "* tarfile\n",
    "* oauth2client (not currently in environment file)\n",
    "* apiclient\n",
    "* httplib2\n",
    "* googleapiclient.http"
   ]
  },
  {
   "cell_type": "code",
   "execution_count": 1,
   "metadata": {},
   "outputs": [
    {
     "name": "stdout",
     "output_type": "stream",
     "text": [
      "/home/jovyan/test_dir2/local-climate-data-tool/local-climate-change-tool/phase1_data_wrangler/\n"
     ]
    }
   ],
   "source": [
    "import download_file_from_google_drive as import_files\n",
    "print_statements_on = True"
   ]
  },
  {
   "cell_type": "code",
   "execution_count": 3,
   "metadata": {},
   "outputs": [
    {
     "name": "stdout",
     "output_type": "stream",
     "text": [
      " -> getting credentials\n",
      " -> downloading files\n",
      "Download 49%.\n",
      "Download 99%.\n",
      "Download 100%.\n"
     ]
    }
   ],
   "source": [
    "file_to_download='Raw_Historical_Obs' # Processed_Data or Raw_Historical_Obs\n",
    "import_files.download_data_predefined(file_to_download, print_statements_on=True)"
   ]
  },
  {
   "cell_type": "code",
   "execution_count": null,
   "metadata": {},
   "outputs": [],
   "source": [
    "file_to_download='Processed_Data' # Processed_Data or Raw_Historical_Obs\n",
    "import_files.download_data_predefined(file_to_download, print_statements_on=True)"
   ]
  },
  {
   "cell_type": "code",
   "execution_count": 2,
   "metadata": {},
   "outputs": [
    {
     "name": "stdout",
     "output_type": "stream",
     "text": [
      " -> getting credentials\n",
      " -> downloading files\n",
      "Download 10%.\n",
      "Download 21%.\n",
      "Download 31%.\n",
      "Download 42%.\n",
      "Download 52%.\n",
      "Download 63%.\n",
      "Download 73%.\n",
      "Download 84%.\n",
      "Download 94%.\n",
      "Download 100%.\n",
      " -> removing any files already existing in folder where extracted files is going\n",
      " -> extracting files\n",
      " -> removing originally downloaded compressed file\n"
     ]
    }
   ],
   "source": [
    "file_to_download='Files_for_Testing' # Processed_Data or Raw_Historical_Obs\n",
    "import_files.download_data_predefined(file_to_download, print_statements_on=True)"
   ]
  },
  {
   "cell_type": "code",
   "execution_count": null,
   "metadata": {},
   "outputs": [],
   "source": []
  }
 ],
 "metadata": {
  "kernelspec": {
   "display_name": "Python 3",
   "language": "python",
   "name": "python3"
  },
  "language_info": {
   "codemirror_mode": {
    "name": "ipython",
    "version": 3
   },
   "file_extension": ".py",
   "mimetype": "text/x-python",
   "name": "python",
   "nbconvert_exporter": "python",
   "pygments_lexer": "ipython3",
   "version": "3.7.3"
  }
 },
 "nbformat": 4,
 "nbformat_minor": 4
}
