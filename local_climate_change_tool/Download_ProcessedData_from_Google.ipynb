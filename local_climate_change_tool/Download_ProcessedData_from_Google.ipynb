{
 "cells": [
  {
   "cell_type": "markdown",
   "metadata": {},
   "source": [
    "# Download processed data from google drive\n",
    "Run this entire notebook to download the data from google drive. This must be done before running the [climate dashboard](phase2_dashboard_generator/climate_dashboard.ipynb). Works on any platform (ocean.pangeo.io and your local computer). \n",
    "\n",
    "### Requires your environment to have the following installed:\n",
    "* io\n",
    "* tarfile\n",
    "* oauth2client (not currently in environment file)\n",
    "* apiclient\n",
    "* httplib2\n",
    "* googleapiclient.http"
   ]
  },
  {
   "cell_type": "code",
   "execution_count": 2,
   "metadata": {},
   "outputs": [],
   "source": [
    "import download_file_from_google_drive as import_files\n",
    "print_statements_on = True"
   ]
  },
  {
   "cell_type": "code",
   "execution_count": 3,
   "metadata": {},
   "outputs": [
    {
     "name": "stdout",
     "output_type": "stream",
     "text": [
      " -> getting credentials\n",
      " -> downloading files\n",
      "Download 49%.\n",
      "Download 99%.\n",
      "Download 100%.\n"
     ]
    }
   ],
   "source": [
    "file_to_download='Raw_Historical_Obs' # Processed_Data or Raw_Historical_Obs\n",
    "import_files.download_data_predefined(file_to_download, print_statements_on=True)"
   ]
  },
  {
   "cell_type": "code",
   "execution_count": 4,
   "metadata": {},
   "outputs": [
    {
     "name": "stdout",
     "output_type": "stream",
     "text": [
      " -> getting credentials\n",
      " -> downloading files\n",
      "Download 2%.\n",
      "Download 4%.\n",
      "Download 6%.\n",
      "Download 8%.\n",
      "Download 10%.\n",
      "Download 12%.\n",
      "Download 14%.\n",
      "Download 16%.\n",
      "Download 18%.\n",
      "Download 20%.\n",
      "Download 22%.\n",
      "Download 24%.\n",
      "Download 26%.\n",
      "Download 28%.\n",
      "Download 31%.\n",
      "Download 33%.\n",
      "Download 35%.\n",
      "Download 37%.\n",
      "Download 39%.\n",
      "Download 41%.\n",
      "Download 43%.\n",
      "Download 45%.\n",
      "Download 47%.\n",
      "Download 49%.\n",
      "Download 51%.\n",
      "Download 53%.\n",
      "Download 55%.\n",
      "Download 57%.\n",
      "Download 59%.\n",
      "Download 62%.\n",
      "Download 64%.\n",
      "Download 66%.\n",
      "Download 68%.\n",
      "Download 70%.\n",
      "Download 72%.\n",
      "Download 74%.\n",
      "Download 76%.\n",
      "Download 78%.\n",
      "Download 80%.\n",
      "Download 82%.\n",
      "Download 84%.\n",
      "Download 86%.\n",
      "Download 88%.\n",
      "Download 91%.\n",
      "Download 93%.\n",
      "Download 95%.\n",
      "Download 97%.\n",
      "Download 99%.\n",
      "Download 100%.\n",
      " -> removing any files already existing in folder where\n",
      "                  extracted files is going\n",
      " -> extracting files\n",
      " -> removing originally downloaded compressed file\n"
     ]
    }
   ],
   "source": [
    "file_to_download='Processed_Data' # Processed_Data or Raw_Historical_Obs\n",
    "import_files.download_data_predefined(file_to_download, print_statements_on=True)"
   ]
  },
  {
   "cell_type": "code",
   "execution_count": null,
   "metadata": {},
   "outputs": [
    {
     "name": "stdout",
     "output_type": "stream",
     "text": [
      " -> getting credentials\n",
      " -> downloading files\n",
      "Download 10%.\n",
      "Download 21%.\n",
      "Download 31%.\n",
      "Download 42%.\n",
      "Download 52%.\n",
      "Download 63%.\n",
      "Download 73%.\n"
     ]
    }
   ],
   "source": [
    "file_to_download='Files_for_Testing' # Processed_Data or Raw_Historical_Obs\n",
    "import_files.download_data_predefined(file_to_download, print_statements_on=True)"
   ]
  },
  {
   "cell_type": "code",
   "execution_count": null,
   "metadata": {},
   "outputs": [],
   "source": []
  }
 ],
 "metadata": {
  "kernelspec": {
   "display_name": "Python 3",
   "language": "python",
   "name": "python3"
  },
  "language_info": {
   "codemirror_mode": {
    "name": "ipython",
    "version": 3
   },
   "file_extension": ".py",
   "mimetype": "text/x-python",
   "name": "python",
   "nbconvert_exporter": "python",
   "pygments_lexer": "ipython3",
   "version": "3.7.3"
  }
 },
 "nbformat": 4,
 "nbformat_minor": 4
}
