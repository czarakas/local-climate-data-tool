{
 "cells": [
  {
   "cell_type": "markdown",
   "metadata": {},
   "source": [
    "# Download processed data from google drive\n",
    "Run this entire notebook to download the data from google drive. This must be done before running the [climate dashboard](phase2_dashboard_generator/climate_dashboard.ipynb). Works on any platform (ocean.pangeo.io and your local computer). \n",
    "\n",
    "### Requires your environment to have the following installed:\n",
    "* io\n",
    "* tarfile\n",
    "* oauth2client (not currently in environment file)\n",
    "* apiclient\n",
    "* httplib2\n",
    "* googleapiclient.http"
   ]
  },
  {
   "cell_type": "code",
   "execution_count": null,
   "metadata": {},
   "outputs": [],
   "source": [
    "import download_file_from_google_drive as import_files\n",
    "print_statements_on = True"
   ]
  },
  {
   "cell_type": "markdown",
   "metadata": {},
   "source": [
    "### Download the raw historical observations (BEST dataset) file:"
   ]
  },
  {
   "cell_type": "code",
   "execution_count": null,
   "metadata": {},
   "outputs": [],
   "source": [
    "file_to_download='Raw_Historical_Obs'\n",
    "import_files.download_data_predefined(file_to_download, print_statements_on=True)"
   ]
  },
  {
   "cell_type": "markdown",
   "metadata": {},
   "source": [
    "### Download the processed climate model data:"
   ]
  },
  {
   "cell_type": "code",
   "execution_count": null,
   "metadata": {},
   "outputs": [],
   "source": [
    "file_to_download='Processed_Data'\n",
    "import_files.download_data_predefined(file_to_download, print_statements_on=True)"
   ]
  },
  {
   "cell_type": "markdown",
   "metadata": {},
   "source": [
    "### Download the testing files:"
   ]
  },
  {
   "cell_type": "code",
   "execution_count": null,
   "metadata": {},
   "outputs": [],
   "source": [
    "file_to_download='Files_for_Testing'\n",
    "import_files.download_data_predefined(file_to_download, print_statements_on=True)"
   ]
  },
  {
   "cell_type": "code",
   "execution_count": null,
   "metadata": {},
   "outputs": [],
   "source": []
  }
 ],
 "metadata": {
  "kernelspec": {
   "display_name": "Python 3",
   "language": "python",
   "name": "python3"
  },
  "language_info": {
   "codemirror_mode": {
    "name": "ipython",
    "version": 3
   },
   "file_extension": ".py",
   "mimetype": "text/x-python",
   "name": "python",
   "nbconvert_exporter": "python",
   "pygments_lexer": "ipython3",
   "version": "3.7.3"
  }
 },
 "nbformat": 4,
 "nbformat_minor": 4
}
