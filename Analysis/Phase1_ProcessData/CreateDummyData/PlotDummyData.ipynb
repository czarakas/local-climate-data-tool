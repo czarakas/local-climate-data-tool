{
 "cells": [
  {
   "cell_type": "markdown",
   "metadata": {},
   "source": [
    "### Set up Workspace"
   ]
  },
  {
   "cell_type": "code",
   "execution_count": 2,
   "metadata": {},
   "outputs": [],
   "source": [
    "import sys\n",
    "dir_analysis = '/home/jovyan/local-climate-data-tool/Analysis/Phase1_ProcessData'\n",
    "sys.path.insert(0, dir_analysis)\n",
    "\n",
    "import pickle\n",
    "import matplotlib.pyplot as plt\n",
    "import numpy as np\n",
    "import zarr\n",
    "import xarray as xr\n",
    "\n",
    "import analysis_parameters"
   ]
  },
  {
   "cell_type": "code",
   "execution_count": 4,
   "metadata": {},
   "outputs": [],
   "source": [
    "# Change this directory to be wherever you put the dummy data\n",
    "\n",
    "data_path=analysis_parameters.DIR_DUMMY_DATA\n",
    "this_experiment_id = ['historical','ssp126', 'ssp370','ssp245','ssp585']\n",
    "experiment_keys = this_experiment_id.copy()\n",
    "experiment_keys.append('historical_obs')"
   ]
  },
  {
   "cell_type": "markdown",
   "metadata": {},
   "source": [
    "### Option 1: Read In Data from Pickle"
   ]
  },
  {
   "cell_type": "code",
   "execution_count": 3,
   "metadata": {},
   "outputs": [],
   "source": [
    "#dict_timeSeries = dict()\n",
    "#for experiment_id in this_experiment_id:\n",
    "#    filename=data_path+'dummyData_modelData_'+experiment_id+'.pickle'\n",
    "#    with open(filename, 'rb') as f:\n",
    "#        ds=pickle.load(f)\n",
    "#    dict_timeSeries[experiment_id]=ds\n",
    "    \n",
    "#filename=data_path+'dummyData_observationData'+'.pickle'\n",
    "#with open(filename, 'rb') as f:\n",
    "#        ds=pickle.load(f)\n",
    "#dict_timeSeries['historical_obs']=ds"
   ]
  },
  {
   "cell_type": "markdown",
   "metadata": {},
   "source": [
    "### Option 2: Read in Data from zarr"
   ]
  },
  {
   "cell_type": "code",
   "execution_count": 5,
   "metadata": {},
   "outputs": [],
   "source": [
    "dict_timeSeries = dict()\n",
    "\n",
    "# Read in model data\n",
    "for experiment_id in this_experiment_id:\n",
    "    filename=data_path+'Zarr/dummyData_modelData_'+experiment_id+'.zarr'\n",
    "    ds = xr.open_zarr(filename)\n",
    "    dict_timeSeries[experiment_id]=ds\n",
    "\n",
    "# Read in observation data\n",
    "filename=data_path+'Zarr/dummyData_observationData'+'.zarr'\n",
    "ds = xr.open_zarr(filename)\n",
    "dict_timeSeries['historical_obs']=ds"
   ]
  },
  {
   "cell_type": "markdown",
   "metadata": {},
   "source": [
    "### Make Figures"
   ]
  },
  {
   "cell_type": "code",
   "execution_count": 6,
   "metadata": {},
   "outputs": [],
   "source": [
    "################## FIGURE SETTINGS YOU CAN ADJUST ################\n",
    "\n",
    "# For Seattle: 47.6062, 237.67\n",
    "# For Chicago: 41.8781, 272.3702\n",
    "thislat = 47.6062\n",
    "thislon = 237.67\n",
    "colors=['black','blue','green','orange','red','gray']"
   ]
  },
  {
   "cell_type": "code",
   "execution_count": null,
   "metadata": {},
   "outputs": [],
   "source": [
    "################## MAKE FIGURE ###########################\n",
    "        \n",
    "fig = plt.figure(figsize=(10,6))\n",
    "for i in range(0,len(experiment_keys)):\n",
    "    # Define experiment id\n",
    "    experiment_id = experiment_keys[i]\n",
    "    \n",
    "    # Read in data for experiment id\n",
    "    ds = dict_timeSeries[experiment_id]\n",
    "    \n",
    "    # Select that one location\n",
    "    ds=ds.sel(lon=thislon, lat=thislat, method='nearest')\n",
    "    ds_annual = ds.groupby('time.year').mean('time')\n",
    "    \n",
    "    # Plot each model\n",
    "    plt.plot(ds_annual['year'].values,ds_annual['mean'].values,label = experiment_id, color=colors[i])\n",
    "\n",
    "plt.legend()\n",
    "plt.xlabel('Year')\n",
    "plt.ylabel('Temperature')"
   ]
  },
  {
   "cell_type": "code",
   "execution_count": null,
   "metadata": {},
   "outputs": [],
   "source": [
    "################## MAKE FIGURE ###########################\n",
    "        \n",
    "fig = plt.figure(figsize=(10,6))\n",
    "for i in range(0,len(experiment_keys)):\n",
    "    # Define experiment id\n",
    "    experiment_id = experiment_keys[i]\n",
    "    \n",
    "    # Read in data for experiment id\n",
    "    ds = dict_timeSeries[experiment_id]\n",
    "    \n",
    "    # Select that one location\n",
    "    ds=ds.sel(lon=thislon, lat=thislat, method='nearest')\n",
    "    ds = ds.sel(time=ds['time.month']==6)\n",
    "    ds_annual = ds.groupby('time.year').mean('time')\n",
    "    \n",
    "    # Plot each model\n",
    "    plt.plot(ds_annual['year'].values,ds_annual['mean'].values,label=experiment_id,color=colors[i])\n",
    "\n",
    "plt.legend()\n",
    "plt.xlabel('Year')\n",
    "plt.ylabel('Temperature')"
   ]
  },
  {
   "cell_type": "code",
   "execution_count": null,
   "metadata": {},
   "outputs": [],
   "source": []
  }
 ],
 "metadata": {
  "kernelspec": {
   "display_name": "Python 3",
   "language": "python",
   "name": "python3"
  },
  "language_info": {
   "codemirror_mode": {
    "name": "ipython",
    "version": 3
   },
   "file_extension": ".py",
   "mimetype": "text/x-python",
   "name": "python",
   "nbconvert_exporter": "python",
   "pygments_lexer": "ipython3",
   "version": "3.7.3"
  }
 },
 "nbformat": 4,
 "nbformat_minor": 4
}
