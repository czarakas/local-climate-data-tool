{
 "cells": [
  {
   "cell_type": "markdown",
   "metadata": {},
   "source": [
    "### There are 65 keys in the dictionary\n",
    "### I can get through it by doing it in segments:\n",
    "##### Crashes with: \n",
    "* tas_historical_CESM2\n",
    "\n",
    "##### Got some kind of error/warning with:\n",
    "* tas_ssp245_CAMS-CSM1-0\n",
    "    - /srv/conda/envs/notebook/lib/python3.7/site-packages/xarray/core/dataset.py:1616: SerializationWarning: saving variable None with floating point data as an integer dtype without any _FillValue to use for NaNs append_dim=append_dim,\n",
    "* tas_ssp585_CAMS-CSM1-0\n",
    "    - /srv/conda/envs/notebook/lib/python3.7/site-packages/xarray/core/dataset.py:1616: SerializationWarning: saving variable None with floating point data as an integer dtype without any _FillValue to use for NaNs append_dim=append_dim,"
   ]
  },
  {
   "cell_type": "code",
   "execution_count": null,
   "metadata": {},
   "outputs": [
    {
     "name": "stderr",
     "output_type": "stream",
     "text": [
      "/srv/conda/envs/notebook/lib/python3.7/site-packages/intake/source/discovery.py:136: FutureWarning: The drivers ['stac-catalog', 'stac-collection', 'stac-item'] do not specify entry_points and were only discovered via a package scan. This may break in a future release of intake. The packages should be updated.\n",
      "  FutureWarning)\n"
     ]
    },
    {
     "name": "stdout",
     "output_type": "stream",
     "text": [
      "--> The keys in the returned dictionary of datasets are constructed as follows:\n",
      "\t'activity_id.institution_id.source_id.experiment_id.table_id.grid_label'\n",
      "\n",
      "--> There will be 65 group(s)\n"
     ]
    }
   ],
   "source": [
    "import step1_process_climate_model_data"
   ]
  },
  {
   "cell_type": "code",
   "execution_count": null,
   "metadata": {},
   "outputs": [],
   "source": []
  }
 ],
 "metadata": {
  "kernelspec": {
   "display_name": "Python 3",
   "language": "python",
   "name": "python3"
  },
  "language_info": {
   "codemirror_mode": {
    "name": "ipython",
    "version": 3
   },
   "file_extension": ".py",
   "mimetype": "text/x-python",
   "name": "python",
   "nbconvert_exporter": "python",
   "pygments_lexer": "ipython3",
   "version": "3.7.3"
  }
 },
 "nbformat": 4,
 "nbformat_minor": 4
}
