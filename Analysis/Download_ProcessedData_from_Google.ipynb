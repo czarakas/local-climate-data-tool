{
 "cells": [
  {
   "cell_type": "code",
   "execution_count": 1,
   "metadata": {},
   "outputs": [],
   "source": [
    "import download_file_from_google_drive as import_files\n",
    "print_statements_on = True\n",
    "file_to_download='Processed_Data' # Processed_Data or Raw_Historical_Obs"
   ]
  },
  {
   "cell_type": "code",
   "execution_count": 2,
   "metadata": {},
   "outputs": [
    {
     "name": "stdout",
     "output_type": "stream",
     "text": [
      " -> getting credentials\n",
      " -> downloading files\n",
      "Download 1%.\n",
      "Download 3%.\n",
      "Download 5%.\n",
      "Download 7%.\n",
      "Download 9%.\n",
      "Download 11%.\n",
      "Download 13%.\n",
      "Download 15%.\n",
      "Download 17%.\n",
      "Download 19%.\n",
      "Download 21%.\n",
      "Download 23%.\n",
      "Download 25%.\n",
      "Download 27%.\n",
      "Download 29%.\n",
      "Download 31%.\n",
      "Download 33%.\n",
      "Download 35%.\n",
      "Download 37%.\n",
      "Download 39%.\n",
      "Download 41%.\n",
      "Download 43%.\n",
      "Download 45%.\n",
      "Download 47%.\n",
      "Download 49%.\n",
      "Download 51%.\n",
      "Download 53%.\n",
      "Download 55%.\n",
      "Download 57%.\n",
      "Download 59%.\n",
      "Download 61%.\n",
      "Download 63%.\n",
      "Download 65%.\n",
      "Download 67%.\n",
      "Download 69%.\n",
      "Download 71%.\n",
      "Download 73%.\n",
      "Download 75%.\n",
      "Download 77%.\n",
      "Download 79%.\n",
      "Download 81%.\n",
      "Download 83%.\n",
      "Download 85%.\n",
      "Download 87%.\n",
      "Download 89%.\n",
      "Download 91%.\n",
      "Download 93%.\n",
      "Download 95%.\n",
      "Download 97%.\n",
      "Download 99%.\n",
      "Download 100%.\n",
      " -> removing any files already existing in folder where extracted files is going\n",
      " -> extracting files\n",
      " -> removing originally downloaded compressed file\n"
     ]
    }
   ],
   "source": [
    "import_files.download_data_predefined(file_to_download, print_statements_on=True)"
   ]
  }
 ],
 "metadata": {
  "kernelspec": {
   "display_name": "Python 3",
   "language": "python",
   "name": "python3"
  },
  "language_info": {
   "codemirror_mode": {
    "name": "ipython",
    "version": 3
   },
   "file_extension": ".py",
   "mimetype": "text/x-python",
   "name": "python",
   "nbconvert_exporter": "python",
   "pygments_lexer": "ipython3",
   "version": "3.7.3"
  }
 },
 "nbformat": 4,
 "nbformat_minor": 4
}
