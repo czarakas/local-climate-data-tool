{
 "cells": [
  {
   "cell_type": "code",
   "execution_count": 2,
   "metadata": {},
   "outputs": [],
   "source": [
    "import hvplot.pandas\n",
    "import numpy as np\n",
    "import param\n",
    "import pandas as pd\n",
    "import panel as pn\n",
    "import panel.widgets as pnw\n",
    "import sys\n",
    "\n",
    "import util_panel\n",
    "dir_analysis = '/home/jovyan/local-climate-data-tool/Analysis/Phase1_ProcessData'\n",
    "sys.path.insert(0, dir_analysis)\n",
    "import analysis_parameters"
   ]
  },
  {
   "cell_type": "markdown",
   "metadata": {},
   "source": [
    "# Define Global Variables"
   ]
  },
  {
   "cell_type": "code",
   "execution_count": 3,
   "metadata": {},
   "outputs": [],
   "source": [
    "### DEFINE GLOBAL VARIABLES ###\n",
    "# Change this directory to be wherever you put the dummy data\n",
    "DATA_PATH = \"/home/smturbev/uwsed/proj/\"\n",
    "# Keys for reading in data files (.zarr)\n",
    "THIS_EXPERIMENT_ID = ['historical','ssp126', 'ssp370','ssp245','ssp585']\n",
    "# Keys for dictionary with observational data too\n",
    "EXPERIMENT_KEYS = THIS_EXPERIMENT_ID.copy()\n",
    "EXPERIMENT_KEYS.append('historical_obs')\n",
    "\n",
    "DICT_LATLON = util_panel.create_country2city2latlon_dict() # Courtesy of https://simplemaps.com/data/world-cities\n",
    "COLORS = ['black','blue','green','orange','red','gray']\n",
    "DICT_COLORS = dict(zip(EXPERIMENT_KEYS, COLORS))"
   ]
  },
  {
   "cell_type": "markdown",
   "metadata": {},
   "source": [
    "# Read in the data with a function"
   ]
  },
  {
   "cell_type": "code",
   "execution_count": 3,
   "metadata": {},
   "outputs": [],
   "source": [
    "DICT_TS = util_panel.read_data()"
   ]
  },
  {
   "cell_type": "markdown",
   "metadata": {},
   "source": [
    "# Generate Panel"
   ]
  },
  {
   "cell_type": "code",
   "execution_count": 4,
   "metadata": {},
   "outputs": [],
   "source": [
    "def hvplot(df, lat, lon, **kwargs):\n",
    "    \"\"\"Generates plot -- parameter of time_series function below\"\"\"\n",
    "    colors=['black','blue','green','orange','red','gray']\n",
    "    hv0 = df[0].hvplot.line(alpha=1.0, color=colors[0], label=EXPERIMENT_KEYS[0]) \n",
    "    hv1 = df[1].hvplot.line(alpha=0.5, color=colors[1], label=EXPERIMENT_KEYS[1])\n",
    "    hv2 = df[2].hvplot.line(alpha=0.5, color=colors[2], label=EXPERIMENT_KEYS[2]) \n",
    "    hv3 = df[3].hvplot.line(alpha=0.5, color=colors[3], label=EXPERIMENT_KEYS[3]) \n",
    "    hv4 = df[4].hvplot.line(alpha=0.5, color=colors[4], label=EXPERIMENT_KEYS[4]) \n",
    "    hv5 = df[5].hvplot.line(alpha=1.0, color=colors[5], label=EXPERIMENT_KEYS[5])\n",
    "    ymax = df[4].max()+3\n",
    "    ymin = df[0].min()-3\n",
    "    return (hv0 * hv1 * hv2 * hv3 * hv4 * hv5).opts(width=1000, height=350, legend_position='top', \n",
    "                                                    ylabel='Temperature (K)', ylim = (ymin,ymax),\n",
    "                                                    title='Location: %dN, %dE'%(lat, lon))\n",
    "\n",
    "def time_series(lat, lon, annual_mean, view_fn=hvplot):\n",
    "    \"\"\"Generate interactive portions of longitude and latitude for data\"\"\"\n",
    "    ds = util_panel.read_data()\n",
    "    df = [None]*6\n",
    "    for i,exp in enumerate(EXPERIMENT_KEYS):\n",
    "        one_ds = ds[exp]\n",
    "        data_to_plot = one_ds.sel(lat=lat, lon=lon, method='nearest')\n",
    "        if annual_mean:\n",
    "            df[i] = data_to_plot.groupby('time.year').mean().to_dataframe()['mean']\n",
    "        else:\n",
    "            df[i] = data_to_plot.to_dataframe()['mean']\n",
    "    return view_fn(df, lat, lon)"
   ]
  },
  {
   "cell_type": "code",
   "execution_count": 5,
   "metadata": {},
   "outputs": [],
   "source": [
    "def hvplot1(df, df_hist, scenario, lat, lon, **kwargs):\n",
    "    \"\"\"Generates plot -- parameter of time_series function below\"\"\"\n",
    "    colors = ['black','blue','green','orange','red','gray']\n",
    "    hv1 = df['mean'].hvplot.line(color='black', legend=False)\n",
    "    hv2 = df[['min','max']].hvplot.area(y='min', y2='max', color=DICT_COLORS[scenario], alpha=0.5, legend=False)\n",
    "    hv3 = df_hist['mean'].hvplot.line(color='black', legend=False)\n",
    "    hv4 = df_hist[['min','max']].hvplot.area(y='min', y2='max', alpha=0.5, color=DICT_COLORS['historical'], legend=False)\n",
    "    ymax = df['max'].max() + 3\n",
    "    ymin = df_hist['min'].min() - 3\n",
    "    return (hv1 * hv2 * hv3 * hv4).opts(width=1000, height=300, ylabel='Temperature (K)',\n",
    "                                        title=\"Scenario (%s) and Historical model range for %dN, %dE\"%(scenario,lat,lon))\n",
    "def time_series1(scenario, lat, lon, annual_mean, view_fn=hvplot1):\n",
    "    \"\"\"Generate interactive portions of longitude and latitude for data\"\"\"\n",
    "    ds = util_panel.read_data()\n",
    "    one_ds = ds[scenario]\n",
    "    data_to_plot = one_ds.sel(lat=lat, lon=lon, method='nearest')\n",
    "    dfh = ds['historical'].sel(lat=lat, lon=lon, method='nearest')\n",
    "    if annual_mean:\n",
    "        df = data_to_plot.groupby('time.year').mean().to_dataframe()\n",
    "        df_hist = dfh.groupby('time.year').mean().to_dataframe() \n",
    "    else:\n",
    "        df = data_to_plot.to_dataframe()\n",
    "        df_hist = dfh.groupby.to_dataframe() \n",
    "    return view_fn(df, df_hist, scenario, lat, lon)"
   ]
  },
  {
   "cell_type": "code",
   "execution_count": 6,
   "metadata": {},
   "outputs": [],
   "source": [
    "class Scenario(param.Parameterized):\n",
    "    \"\"\"Builds a time series of model min, max and mean for a specified scenario\"\"\"\n",
    "    def __get__(self, instance, owner):\n",
    "        return instance.scenario\n",
    "    def __set__(self, instance, value):\n",
    "        instance.scenario = value"
   ]
  },
  {
   "cell_type": "code",
   "execution_count": 7,
   "metadata": {},
   "outputs": [],
   "source": [
    "class Selector(param.Parameterized):\n",
    "    \"\"\"Builds a timeseries plot of scenarios based on user input\"\"\"\n",
    "    country = param.ObjectSelector(default='United States', objects=sorted(list(DICT_LATLON.keys())))\n",
    "    city = param.ObjectSelector(default='Seattle', objects=sorted(list(DICT_LATLON['United States'].keys())))\n",
    "    custom = param.Boolean(False, doc='customize latitude and longitude')\n",
    "    latitude = param.Number(0, bounds=(-90, 90))\n",
    "    longitude = param.Number(180, bounds=(0, 360))\n",
    "    annual_mean = param.Boolean(True, doc='show annual mean, averages out annual variation')\n",
    "    scenario = param.ObjectSelector(default='ssp585', objects=['ssp126', 'ssp370', 'ssp245', 'ssp585'])\n",
    "    scenario_obj = Scenario()\n",
    "    \n",
    "    @param.depends('country', watch=True)\n",
    "    def _update_cities(self):\n",
    "        cities = sorted(list(DICT_LATLON[self.country].keys()))\n",
    "        self.param['city'].objects = cities\n",
    "        self.city = cities[0]\n",
    "          \n",
    "    @param.depends('scenario','city','latitude','longitude','custom','annual_mean')\n",
    "    def view1(self):\n",
    "        if self.custom:\n",
    "            lat, lon = self.latitude, self.longitude\n",
    "        else:\n",
    "            lat, lon = DICT_LATLON[self.country][self.city]\n",
    "        return time_series1(self.scenario, lat, lon, self.annual_mean)\n",
    "    \n",
    "    @param.depends('city','longitude','latitude','annual_mean','custom')\n",
    "    def view(self): \n",
    "        if self.custom:\n",
    "            lat, lon = self.latitude, self.longitude\n",
    "        else:\n",
    "            lat, lon = DICT_LATLON[self.country][self.city]\n",
    "        return time_series(lat, lon, self.annual_mean)\n",
    "    \n",
    "timeseries_obj = Selector()"
   ]
  },
  {
   "cell_type": "code",
   "execution_count": 8,
   "metadata": {},
   "outputs": [],
   "source": [
    "plots_obj = pn.Column(timeseries_obj.view, timeseries_obj.view1)\n",
    "panel_obj = pn.Row(timeseries_obj.param, plots_obj)\n",
    "web = pn.Column('# Local Climate Tool', panel_obj)"
   ]
  },
  {
   "cell_type": "code",
   "execution_count": 8,
   "metadata": {},
   "outputs": [],
   "source": [
    "web.show()"
   ]
  },
  {
   "cell_type": "code",
   "execution_count": null,
   "metadata": {},
   "outputs": [],
   "source": [
    "web.serveable()"
   ]
  }
 ],
 "metadata": {
  "kernelspec": {
   "display_name": "Python 3",
   "language": "python",
   "name": "python3"
  },
  "language_info": {
   "codemirror_mode": {
    "name": "ipython",
    "version": 3
   },
   "file_extension": ".py",
   "mimetype": "text/x-python",
   "name": "python",
   "nbconvert_exporter": "python",
   "pygments_lexer": "ipython3",
   "version": "3.7.3"
  }
 },
 "nbformat": 4,
 "nbformat_minor": 4
}
