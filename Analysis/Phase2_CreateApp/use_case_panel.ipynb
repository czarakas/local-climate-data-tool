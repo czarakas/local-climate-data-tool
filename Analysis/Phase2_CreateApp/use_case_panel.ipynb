{
 "cells": [
  {
   "cell_type": "markdown",
   "metadata": {},
   "source": [
    "# Basic Panel for Use Case\n",
    "- presentation Monday, Nov 4, 2019"
   ]
  },
  {
   "cell_type": "code",
   "execution_count": null,
   "metadata": {},
   "outputs": [],
   "source": [
    "import hvplot.pandas\n",
    "import matplotlib.pyplot as plt\n",
    "import numpy as np\n",
    "import pandas as pd\n",
    "import panel as pn\n",
    "import panel.widgets as pnw\n",
    "import zarr\n",
    "import xarray as xr\n",
    "import sys\n",
    "\n",
    "import util_panel\n",
    "\n",
    "dir_analysis = '/home/jovyan/local-climate-data-tool/Analysis/Phase1_ProcessData'\n",
    "sys.path.insert(0, dir_analysis)\n",
    "import analysis_parameters\n"
   ]
  },
  {
   "cell_type": "markdown",
   "metadata": {},
   "source": [
    "## 1. Read in the dummy data"
   ]
  },
  {
   "cell_type": "code",
   "execution_count": null,
   "metadata": {},
   "outputs": [],
   "source": [
    "# Change this directory to be wherever you put the dummy data\n",
    "DATA_PATH = analysis_parameters.DIR_DUMMY_DATA\n",
    "# Keys for reading in data files (.zarr)\n",
    "THIS_EXPERIMENT_ID = ['historical','ssp126', 'ssp370','ssp245','ssp585']\n",
    "# Keys for dictionary with observational data too\n",
    "EXPERIMENT_KEYS = THIS_EXPERIMENT_ID.copy()\n",
    "EXPERIMENT_KEYS.append('historical_obs')"
   ]
  },
  {
   "cell_type": "code",
   "execution_count": null,
   "metadata": {},
   "outputs": [],
   "source": [
    "DICT_TS = util_panel.read_data()"
   ]
  },
  {
   "cell_type": "markdown",
   "metadata": {},
   "source": [
    "## 2. Example plot data for Seattle\n",
    "- Check that the data looks good for an example case"
   ]
  },
  {
   "cell_type": "code",
   "execution_count": null,
   "metadata": {},
   "outputs": [],
   "source": [
    "# For Seattle: 47.6062, 237.67\n",
    "# For Chicago: 41.8781, 272.3702\n",
    "thislat = 47.6062\n",
    "thislon = 237.67"
   ]
  },
  {
   "cell_type": "code",
   "execution_count": null,
   "metadata": {},
   "outputs": [],
   "source": [
    "def plot_timeseries(lon,lat):        \n",
    "    fig = plt.figure(figsize=(10,6))\n",
    "    dict_timeseries = read_data()\n",
    "    for i in range(0,len(EXPERIMENT_KEYS)):\n",
    "        # Define experiment id\n",
    "        experiment_id = EXPERIMENT_KEYS[i]\n",
    "        \n",
    "        # Read in data for experiment id\n",
    "        ds = dict_timeseries[experiment_id]\n",
    "\n",
    "        # Select that one location\n",
    "        ds=ds.sel(lon=thislon, lat=thislat, method='nearest')\n",
    "        ds_annual = ds.groupby('time.year').mean('time')\n",
    "\n",
    "        # Define colors for each experiment\n",
    "        colors=['black','blue','green','orange','red','gray']\n",
    "        # Plot each model\n",
    "        plt.plot(ds_annual['year'].values,ds_annual['mean'].values,label = experiment_id, color=colors[i])\n",
    "\n",
    "    plt.legend()\n",
    "    plt.xlabel('Year')\n",
    "    plt.ylabel('Temperature')\n",
    "    plt.show()\n",
    "    \n",
    "\n",
    "plot_timeseries(thislon,thislat)"
   ]
  },
  {
   "cell_type": "markdown",
   "metadata": {},
   "source": [
    "## 3. Generate panel"
   ]
  },
  {
   "cell_type": "code",
   "execution_count": null,
   "metadata": {},
   "outputs": [],
   "source": [
    "dict_timeseries = util_panel.read_data()"
   ]
  },
  {
   "cell_type": "code",
   "execution_count": null,
   "metadata": {},
   "outputs": [],
   "source": [
    "def hvplot(df, **kwargs):\n",
    "    '''Generates plot -- parameter of time_series function below'''\n",
    "    colors=['black','blue','green','orange','red','gray']\n",
    "    return (df[0].hvplot(alpha=1.0, color=colors[0], width=800, label=EXPERIMENT_KEYS[0], ylabel='Temperature (K)', ylim=(250,300)) * \n",
    "            df[1].hvplot(alpha=0.5, color=colors[1], width=800, label=EXPERIMENT_KEYS[1], ylabel='Temperature (K)', ylim=(250,300)) * \n",
    "            df[2].hvplot(alpha=0.5, color=colors[2], width=800, label=EXPERIMENT_KEYS[2], ylabel='Temperature (K)', ylim=(250,300)) * \n",
    "            df[3].hvplot(alpha=0.5, color=colors[3], width=800, label=EXPERIMENT_KEYS[3], ylabel='Temperature (K)', ylim=(250,300)) * \n",
    "            df[4].hvplot(alpha=0.5, color=colors[4], width=800, label=EXPERIMENT_KEYS[4], ylabel='Temperature (K)', ylim=(250,300)) * \n",
    "            df[5].hvplot(alpha=1.0, color=colors[5], width=800, label=EXPERIMENT_KEYS[5], ylabel='Temperature (K)', ylim=(250,300))\n",
    "           )\n",
    "\n",
    "def time_series(lat, lon, annual_mean=False, view_fn=hvplot):\n",
    "    '''Generate interactive portions of longitude and latitude for data'''\n",
    "    ds = util_panel.read_data()\n",
    "    df = [None]*6\n",
    "    for i,exp in enumerate(EXPERIMENT_KEYS):\n",
    "        one_ds = ds[exp]\n",
    "        data_to_plot = one_ds.sel(lat=lat, lon=lon, method='nearest')\n",
    "        xs = data_to_plot['time'].values\n",
    "        ys = data_to_plot['mean'].values\n",
    "        df[i] = pd.DataFrame(dict(y=ys), index=xs)\n",
    "    return view_fn(df, lat=lat, lon=lon)\n",
    "\n",
    "time_series(thislat, thislon)"
   ]
  },
  {
   "cell_type": "code",
   "execution_count": null,
   "metadata": {},
   "outputs": [],
   "source": [
    "pn.extension()\n",
    "latitude = pnw.FloatSlider(name='longitude', value=0, start=-80, end=80)\n",
    "longitude = pnw.FloatSlider(name='longitude', value=180, start=0, end=360)\n",
    "\n",
    "\n",
    "@pn.depends(latitude.param.value, longitude.param.value)\n",
    "def reactive_time_series(latitude, longitude):\n",
    "    return time_series(latitude,longitude)\n",
    "widgets = pn.Column(\"<br>\\n# Local Climate Tool\",latitude,longitude)\n",
    "side_panel = pn.Row(widgets, reactive_time_series)\n",
    "\n",
    "side_panel"
   ]
  },
  {
   "cell_type": "code",
   "execution_count": null,
   "metadata": {},
   "outputs": [],
   "source": [
    "# side_panel.show()\n",
    "side_panel.servable()"
   ]
  }
 ],
 "metadata": {
  "kernelspec": {
   "display_name": "Python 3",
   "language": "python",
   "name": "python3"
  },
  "language_info": {
   "codemirror_mode": {
    "name": "ipython",
    "version": 3
   },
   "file_extension": ".py",
   "mimetype": "text/x-python",
   "name": "python",
   "nbconvert_exporter": "python",
   "pygments_lexer": "ipython3",
   "version": "3.7.3"
  }
 },
 "nbformat": 4,
 "nbformat_minor": 4
}
