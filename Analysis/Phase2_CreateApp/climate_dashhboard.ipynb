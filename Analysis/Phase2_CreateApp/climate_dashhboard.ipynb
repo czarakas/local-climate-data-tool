{
 "cells": [
  {
   "cell_type": "markdown",
   "metadata": {},
   "source": [
    "<h1 style=\"font-size:36pt\"> Generate dashboard </h1>\n",
    "\n",
    "Run entire notebook to generate the dashboard for **Local Climate Change Tool: Climate Change in your city**. \n",
    "Alternatively, you can run this from the command line:\n",
    "```\n",
    "panel serve climate_dashboard.ipynb --show\n",
    "```\n",
    "The dashboard is interactive with user input from the panel.widgets package and param classes. Report bugs to the collaborators [here](https://github.com/czarakas/local-climate-data-tool/issues). Your feedback is welcome."
   ]
  },
  {
   "cell_type": "code",
   "execution_count": null,
   "metadata": {},
   "outputs": [],
   "source": [
    "import hvplot.xarray\n",
    "import numpy as np\n",
    "import param\n",
    "import panel as pn\n",
    "import panel.widgets as pnw\n",
    "\n",
    "import util_panel"
   ]
  },
  {
   "cell_type": "markdown",
   "metadata": {},
   "source": [
    "## Define Global Variables\n",
    "\n",
    "These variables are used throughout the notebook and increase the speed of the functions and classes so we don't have to read in the data more than once.\n",
    "\n",
    "- THIS_EXPERIMENT_ID is used to read in the data\n",
    "- EXPERIMENT_KEYS is used as keys for the data dictionary\n",
    "- DICT_LATLON is a dictionary where the key is country names and the values are a list of dictionaries of city names that points to the latitude (-90 to 90) and longitude (-180 to 180) of that city\n",
    "- COLORS are used for ploting in the order of the keys of DICT_SCENARIOS.\n",
    "- DICT_SCENARIOS is a dictionary that links the user friendly scenario names with their shorter technical names.\n",
    "- DICT_COLORS is a dictionary that links scenario names to colors for plotting\n",
    "- SCENARIO is list of user-friendly-named scenarios"
   ]
  },
  {
   "cell_type": "code",
   "execution_count": null,
   "metadata": {},
   "outputs": [],
   "source": [
    "# For reading in the data and used as keys to data dictionary\n",
    "THIS_EXPERIMENT_ID = ['historical','ssp126', 'ssp370','ssp245','ssp585'] # For reading in zarr files\n",
    "EXPERIMENT_KEYS = THIS_EXPERIMENT_ID.copy()\n",
    "EXPERIMENT_KEYS.append('historical_obs') # For all data\n",
    "\n",
    "# For end user, plotting, etc.\n",
    "DICT_LATLON = util_panel.create_country2city2latlon_dict() # Courtesy of https://simplemaps.com/data/world-cities\n",
    "COLORS = ['black','gray','blue','green','orange','red']\n",
    "DICT_SCENARIOS = {'Modeled Historical':'historical', 'Observed Historical':'historical_obs',\n",
    "                  'SSP1: Sustainability':'ssp126', 'SSP2: Middle-of-the-road':'ssp245',\n",
    "                  'SSP3: Regional Rivalry':'ssp370', 'SSP5: Fossil Fueled Development':'ssp585'\n",
    "                 }\n",
    "DICT_COLORS = dict(zip(list(DICT_SCENARIOS.keys()), COLORS))\n",
    "SCENARIO = list(DICT_SCENARIOS.keys())[2:]\n"
   ]
  },
  {
   "cell_type": "markdown",
   "metadata": {},
   "source": [
    "# Read in the data with a function\n",
    "\n",
    "There are three types of data to read in: \n",
    "\n",
    "1. Dummy data which was used to generate the layout for the dashboard but is no longer needed, \n",
    "2. Global data which is the global average of temperature for all the scenarios\n",
    "3. Real data for each location on the globe"
   ]
  },
  {
   "cell_type": "code",
   "execution_count": null,
   "metadata": {},
   "outputs": [],
   "source": [
    "DUMMY_DICT = util_panel.read_data('dummy')\n",
    "GLOBAL_DICT = util_panel.read_data('global')\n",
    "REAL_DICT = util_panel.read_data('real')"
   ]
  },
  {
   "cell_type": "markdown",
   "metadata": {},
   "source": [
    "# Generate plots\n",
    "\n",
    "Example used is Seattle to make sure the plots are doing what we expect, which is choosing a lat, lon and then plotting a timeseries of all the scenarios plus historical observations. The second plot is focused on one scenario such that we see the model uncertainties, by plotting the min, mean and max."
   ]
  },
  {
   "cell_type": "code",
   "execution_count": null,
   "metadata": {},
   "outputs": [],
   "source": [
    "# Used for examples: Seattle = 47.6062, 237.67\n",
    "thislat = 47.6062\n",
    "thislon = 237.67"
   ]
  },
  {
   "cell_type": "code",
   "execution_count": null,
   "metadata": {},
   "outputs": [],
   "source": [
    "def hvplot(df, lat, lon, **kwargs):\n",
    "    \"\"\"Generates plot -- parameter of time_series function below\"\"\"\n",
    "    colors=['black','blue','green','orange','red','gray']\n",
    "    hv0 = df[0].hvplot(color=colors[0], label=\"Modeled Historical\") \n",
    "    hv1 = df[1].hvplot(color=colors[1], label=\"SSP1: Sustainability\")\n",
    "    hv2 = df[2].hvplot(color=colors[2], label=\"SSP2: Middle-of-the-road\") \n",
    "    hv3 = df[3].hvplot(color=colors[3], label=\"SSP3: Regional Rivalry\") \n",
    "    hv4 = df[4].hvplot(color=colors[4], label=\"SSP5: Fossil Fueled Development\") \n",
    "    hv5 = df[5].hvplot(color=colors[5], label=\"Observed Historical\")\n",
    "    ymax = df[4].max()+3\n",
    "    ymin = df[0].min()-3\n",
    "    return (hv0 * hv5 * hv1 * hv2 * hv3 * hv4).opts(width=1100, height=350, legend_position='top', \n",
    "                                                    ylabel='Temperature (C)', xlabel='Year',\n",
    "                                                    fontsize={'labels': 16, 'xticks': 14, 'yticks': 14, 'legend':9.7}\n",
    "                                                   )\n",
    "\n",
    "def time_series(lat, lon, annual_mean=True, global_mean=False, view_fn=hvplot):\n",
    "    \"\"\"Generate interactive portions of longitude and latitude for data\"\"\"\n",
    "    if global_mean:\n",
    "        ds = GLOBAL_DICT\n",
    "    else:\n",
    "        ds = DUMMY_DICT\n",
    "    df = [None] * 6\n",
    "    for i, exp in enumerate(EXPERIMENT_KEYS):\n",
    "        one_ds = ds[exp]\n",
    "        data_to_plot = one_ds.sel(lat=lat, lon=lon, method='nearest')\n",
    "        if annual_mean:\n",
    "            df[i] = data_to_plot.groupby('time.year').mean()['mean']\n",
    "        else:\n",
    "            df[i] = data_to_plot['mean']\n",
    "    return view_fn(df, lat, lon)\n",
    "\n",
    "# Test that above generates plot\n",
    "# time_series(thislat, thislon, annual_mean=True, global_mean=False)"
   ]
  },
  {
   "cell_type": "code",
   "execution_count": null,
   "metadata": {},
   "outputs": [],
   "source": [
    "def hvplot1(df, df_hist, scenario, lat, lon, **kwargs):\n",
    "    \"\"\"Generates plot -- parameter of time_series function below\"\"\"\n",
    "    colors = ['black','blue','green','orange','red','gray']\n",
    "    hv1 = df['mean'].hvplot.line(color=DICT_COLORS[scenario], label=scenario)\n",
    "    hv2 = df[['min','max']].hvplot.area(y='min', y2='max', color=DICT_COLORS[scenario], alpha=0.5, legend=False)\n",
    "    hv3 = df_hist['mean'].hvplot.line(color='black', label='Modeled Historical')\n",
    "    hv4 = df_hist[['min','max']].hvplot.area(y='min', y2='max', alpha=0.5, \n",
    "                                             color=DICT_COLORS['Modeled Historical'], legend=False\n",
    "                                            )\n",
    "    ymax = df['max'].max() + 3\n",
    "    ymin = df_hist['min'].min() - 3\n",
    "    return (hv2 * hv4 * hv3 * hv1).opts(width=1100, height=400, ylabel='Temperature (C)', xlabel='Year',\n",
    "                                        title=\"Scenario (%s) and Historical model range\"%(scenario),\n",
    "                                        fontsize={'title': 18, 'labels': 16, 'xticks': 14, 'yticks': 14, 'legend':9.7},\n",
    "                                        legend_position='top'\n",
    "                                        )\n",
    "\n",
    "def time_series1(scenario, lat, lon, annual_mean=True, global_mean=False, view_fn=hvplot1):\n",
    "    \"\"\"Generate interactive portions of longitude and latitude for data\"\"\"\n",
    "    ds = DUMMY_DICT\n",
    "    one_ds = ds[DICT_SCENARIOS[scenario]]\n",
    "    data_to_plot = one_ds.sel(lat=lat, lon=lon, method='nearest')\n",
    "    dfh = ds['historical'].sel(lat=lat, lon=lon, method='nearest')\n",
    "    if annual_mean:\n",
    "        df = data_to_plot.groupby('time.year').mean()\n",
    "        df_hist = dfh.groupby('time.year').mean()\n",
    "    else:\n",
    "        df = data_to_plot\n",
    "        df_hist = dfh\n",
    "    return view_fn(df, df_hist, scenario, lat, lon)\n",
    "\n",
    "# Test that above generates plot\n",
    "# time_series1('SSP5: Fossil Fueled Development', thislat, thislon, annual_mean=True, global_mean=False)"
   ]
  },
  {
   "cell_type": "markdown",
   "metadata": {},
   "source": [
    "## Generate Widgets\n",
    "\n",
    "This portion of the code generates many widgets and classes of parameters that depend on each other and update the plots.\n",
    "\n",
    "- refresh: pnw.Button to load all changes to parameters at once. Plot will not update unless this button is pressed.\n",
    "- latitude: pnw.FloatSlider to customize user input location\n",
    "- longitude: pnw.FloatSlider to customize user input location\n",
    "- scenario: pnw.Select to customize the second plot to show model uncertainties within the user selected scenario\n",
    "- text: pnw.TextInput to display the currently selected city or lat/lon\n",
    "- annual_mean: pnw.Checkbox - check for annual mean (much cleaner plot), uncheck to see annual variation (aka seasonal temperature change), default to True\n",
    "\n",
    "Then, we created three classes.\n",
    "1. Select: update city list from chosen country\n",
    "2. Plots: generate first plot with user input location based on city or custom lat/lon\n",
    "3. PlotScenario: genearte second plot with chosen scenario (same location as first plot)\n",
    "\n",
    "Finally, we made a dependency on the refresh button that calls function *b* everytime the refresh button is clicked. This initiates a new rendering of the plots with data from new location, scenario, or annual mean.\n"
   ]
  },
  {
   "cell_type": "code",
   "execution_count": null,
   "metadata": {},
   "outputs": [],
   "source": [
    "pn.extension()\n",
    "background = 'WhiteSmoke'\n",
    "refresh = pnw.Button(name='Refresh plots', button_type='primary')\n",
    "# Custom Location tab\n",
    "latitude = pnw.FloatSlider(name='latitude', value=0, start=-80, end=80)\n",
    "longitude = pnw.FloatSlider(name='longitude', value=180, start=0, end=360)\n",
    "# Scenario\n",
    "scenario = pnw.Select(name='Future scenario', options=SCENARIO)\n",
    "# Text to display currently selected location\n",
    "text = pnw.TextInput(value='Select your location then press Refresh plots')\n",
    "annual_mean = pnw.Checkbox(name = 'Annual Mean')\n",
    "annual_mean.value = True #initialize annual_mean to be True\n",
    "\n",
    "class Select(param.Parameterized):\n",
    "    \"\"\"Builds a timeseries plot of scenarios based on user input\"\"\"\n",
    "    countries = sorted(list(DICT_LATLON.keys()))\n",
    "    countries.insert(0,'Global')\n",
    "    country = param.ObjectSelector(default='United States', objects=countries)\n",
    "    city = param.ObjectSelector(default='Seattle', objects=sorted(list(DICT_LATLON['United States'].keys())))\n",
    "    \n",
    "    @param.depends('country', watch=True)\n",
    "    def _update_cities(self):\n",
    "        \"\"\"Updates city list when country changes\"\"\"\n",
    "        if self.country == 'Global':\n",
    "            self.param['city'].objects = ['']\n",
    "            self.city = ''\n",
    "        else:\n",
    "            cities = sorted(list(DICT_LATLON[self.country].keys()))\n",
    "            self.param['city'].objects = cities\n",
    "            self.city = cities[0]\n",
    "\n",
    "select_city = Select()\n",
    "tabs = pn.Tabs(('Choose City', pn.Row(select_city.param)), ('Custom Location', pn.Column(latitude, longitude)))\n",
    "\n",
    "class Plots(param.Parameterized):\n",
    "    \"\"\"Builds timeseries for specific location\"\"\"\n",
    "    ann_mean = param.Boolean(True, doc=\"check for plot of annual mean\")\n",
    "    update = param.Boolean(True)\n",
    "    global_mean = param.Boolean(False)\n",
    "    lat = param.Number(thislat, bounds=(-90, 90))\n",
    "    lon = param.Number(thislon, bounds=(0, 360))\n",
    "\n",
    "    @param.depends('update')\n",
    "    def view(self):\n",
    "        \"\"\"Builds the plot using time_series function\"\"\"\n",
    "        return time_series(self.lat, self.lon, annual_mean=self.ann_mean, global_mean=self.global_mean)\n",
    "\n",
    "class PlotScenario(param.Parameterized):\n",
    "    \"\"\"Builds timeseries that dynamically updates\"\"\"\n",
    "    lat = param.Number(thislat, bounds=(-90,90))\n",
    "    lon = param.Number(thislon, bounds=(0, 360))\n",
    "    global_mean = param.Boolean(False)\n",
    "    update = param.Boolean(True)\n",
    "    sce = param.ObjectSelector(default=SCENARIO[0], objects=SCENARIO)\n",
    "    \n",
    "    @param.depends('update')\n",
    "    def view(self):\n",
    "        \"\"\"Builds a plot using time_series1 function\"\"\"\n",
    "        return time_series1(self.sce, self.lat, self.lon, annual_mean=True, global_mean=self.global_mean)\n",
    "    \n",
    "plots = Plots()\n",
    "plot_scenario = PlotScenario()\n",
    "\n",
    "def b(event):\n",
    "    if tabs.active == 0:\n",
    "        # Select Country/City\n",
    "        text.value ='Location Selected: {0}, {1}'.format(select_city.city, select_city.country)\n",
    "        pos = DICT_LATLON[select_city.country][select_city.city]\n",
    "        # Update plot of timeseries\n",
    "        plots.lat = pos[0]\n",
    "        if pos[1] < 0:\n",
    "            new_lon = 360 + pos[1]\n",
    "        else: \n",
    "            new_lon = pos[1]\n",
    "        plots.lon = new_lon\n",
    "        plots.ann_mean = annual_mean.value\n",
    "        plots.update = not(plots.update)\n",
    "    else:\n",
    "        # Select Custom Lat/Lon\n",
    "        text.value = 'Location Selected: Lat {0}°, Lon {1}°'.format(round(latitude.value,2), round(longitude.value,2))\n",
    "        # Update plot of timeseries\n",
    "        plots.lat = latitude.value\n",
    "        plots.lon = longitude.value\n",
    "        plots.ann_mean = annual_mean.value\n",
    "        plots.update = not(plots.update)\n",
    "    # Update plot of selected scenario\n",
    "    plot_scenario.lat = plots.lat\n",
    "    plot_scenario.lon = plots.lon\n",
    "    plot_scenario.sce = scenario.value\n",
    "    plot_scenario.update = not(plot_scenario.update)\n",
    "\n",
    "refresh.param.watch(b, 'clicks');\n",
    "\n",
    "widgets = pn.Column(tabs, annual_mean, scenario, refresh, text, background=background)"
   ]
  },
  {
   "cell_type": "markdown",
   "metadata": {},
   "source": [
    "### Test that plots parameters update with widgets\n",
    "Aka make sure that interactivity portion does what its supposed to do\n",
    "\n",
    "Uncomment the cell below play with the widgets yourself and see how the parameters inside the plot classes are updated. Shows that the data being plotted is actually at the location we want."
   ]
  },
  {
   "cell_type": "code",
   "execution_count": null,
   "metadata": {},
   "outputs": [],
   "source": [
    "# pn.Row(widgets, plots.param, plot_scenario.param)"
   ]
  },
  {
   "cell_type": "markdown",
   "metadata": {},
   "source": [
    "### Put all the widgets and plots together\n",
    "\n",
    "The meat and potatos of our dashboard"
   ]
  },
  {
   "cell_type": "code",
   "execution_count": null,
   "metadata": {},
   "outputs": [],
   "source": [
    "board = pn.Row(widgets, pn.Column(plots.view, plot_scenario.view))"
   ]
  },
  {
   "cell_type": "markdown",
   "metadata": {},
   "source": [
    "# Generate the rest of the webpage content\n",
    "- header (explainng how to use the widgets and update the plots)\n",
    "- body text (explaining components of plots and where the data comes from)\n",
    "\n",
    "### Generate header text\n",
    "Describe how to use widgets to update plots and direct to more information"
   ]
  },
  {
   "cell_type": "code",
   "execution_count": null,
   "metadata": {},
   "outputs": [],
   "source": [
    "text_header = '''\n",
    "<h1 style=\"font-size:38pt;color:#224CA8;font-family:Gill Sans MT\"> Local Climate Change Tool </h1> <p style=\"font-size:18pt;color:#224CA8;font-family:Gill Sans MT\"> Climate Change in your City \\n -------------- \\n </p>\n",
    "<p>\n",
    "From the lists below, select a tab for choosing a location based on a dropdown list of cities or customize your latitude and longitude under <i> Custom Location </i> tab. Note that longitude is from 0 to 360. To refresh the plot with your new values hit the blue <i>Refresh Plots</i> button. For more information on these plots and where the data came from scroll down the page, or see <a href=\"https://github.com/czarakas/local-climate-data-tool\">here</a>.\n",
    "</p>\n",
    "'''\n",
    "\n",
    "header = pn.pane.Markdown(text_header, width=750, height=420, style={'font-family':'Arial','font-size':'14pt'})"
   ]
  },
  {
   "cell_type": "markdown",
   "metadata": {},
   "source": [
    "### Generate body text\n",
    "Describe elements of the plot, where the data came from, and what SSP means"
   ]
  },
  {
   "cell_type": "code",
   "execution_count": null,
   "metadata": {},
   "outputs": [],
   "source": [
    "text_for_panel = '''\n",
    "# <p style=\"font-family:Gill Sans MT;font-size:24pt\"> Description of Local Climate Change Data Tool elements </p>\n",
    "## <p style=\"font-size:18pt\"> Plots </p>\n",
    "<p> These plots show the near-surface air temperature for the grid point closest to your selected location from the CMIP6 climate model projections (1.125°x1.125° latitude-longitude grid) for the historical experiment and for each of the four scenarios. The mean, minimum, and maximum are computed over 16 models for the historical experiment, 11 models for SSP1: Sustainability, 10 models for SSP3: Regional Rivalry, and 9 models for SSP5: Fossil Fueled Development. The historical experiment was run for 165 years from 1850-2014, while the scenarios were run for 85 years from 2015-2100. This data is plotted monthly, so you will see a lot of noise from the seasonal temperature changes unless annual mean is selected. In the bottom plot, the model data is plotted alongside historical observations of surface temperature.\n",
    "</p>\n",
    "## <p style=\"font-family:Gill Sans MT;font-size:18pt\"> Uncertainty </p>\n",
    "<p style=\"font-size:14pt\"> Note that uncertainty inherently arises in these simulations from the models themselves, from factors in the scenarios (such as emission), and from the natural internal variability in the climate. Uncertainty from the models is demonstrated in the spread between the minimum and maximum values for each scenario.\n",
    "</p> '''\n",
    "text_for_panel2=''' \n",
    "<h2 style=\"font-family:Gill Sans MT;font-size:18pt\"> CMIP6 </h2>\n",
    "<p> The Coupled Model Intercomparison Project, Phase 6 (CMIP6) is an intercomparison of over 30 global climate models with the same forcings and with a consistent output format to facilitate comparison. These models were run for a historical experiment to recreate the past to validate the models and for several different future scenarios. Currently, this tool only utilizes a subset of these climate models; this will be updated as more data becomes available. For more information, visit [https://www.wcrp-climate.org/wgcm-cmip](https://www.wcrp-climate.org/wgcm-cmip).\n",
    "</p>\n",
    "\n",
    "<h2 style=\"font-family:Gill Sans MT;font-size:18pt\"> SSPs </h2>\n",
    "<p> These scenarios are different shared socioeconomic pathways (SSPs), which make projections on what would happen in the future if that amount of radiative forcing is present, assuming no further climate change or changing policies. Each scenario is named after the amount of radiative forcing from human activities (e.g. the amount of carbon-based energy used and carbon emissions), meaning the amount of excess solar radiation entering the earth’s atmosphere. In the order of most to least sustainable, these radiative forcings are 1-2.6 W/m2 (SSP1: Sustainability), 2-4.5 W/m2 (SSP2: Middle-of-the-road), 3-7 W/m2 (SSP3: Regional Rivalry), and 5-8.5 W/m2 (SSP5: Fossil Fueled Development). Generally, higher forcing corresponds to warmer temperatures on Earth.\n",
    "</p>\n",
    "\n",
    "<h2 style=\"font-family:Gill Sans MT;font-size:18pt\"> Observations </h2>\n",
    "<p> <br clear=right/> <a href=\"http://berkeleyearth.org/\"> <img src=\"http://static.berkeleyearth.org/img/berkeley-earth-logo-1.png\" width=120 height=60 align='left'/></a> These temperature observations come from the Berkeley Earth Surface Temperature (BEST) dataset, which consists of monthly means of land surface air temperature observations that have been structured onto a 1° x 1° latitude-longitude grid, although observations may not be available for every point on the grid at all time steps. For more information, visit <a href=\"http://berkeleyearth.org/\"> http://berkeleyearth.org/</a>.\n",
    "</p>\n",
    "'''\n",
    "text_description = pn.Column(pn.pane.Markdown(text_for_panel, width=1380, style={'font-family': \"Arial\",'font-size':'14pt'}), \n",
    "                             pn.panel(\"bokeh_plot_uncertainty.gif\", width=800), \n",
    "                             pn.pane.Markdown(text_for_panel2, width=1380, style={'font-family': \"Arial\",'font-size':'14pt'}))"
   ]
  },
  {
   "cell_type": "markdown",
   "metadata": {},
   "source": [
    "# Put it all together! \n",
    "Generate full dashboard here. Uncomment \n",
    "```\n",
    " climate_tool.show()\n",
    "```\n",
    "in the cell below to launch in a new tab of your browser. "
   ]
  },
  {
   "cell_type": "code",
   "execution_count": null,
   "metadata": {},
   "outputs": [],
   "source": [
    "climate_tool = pn.Column(header, board, text_description)\n",
    "climate_tool.servable();\n",
    "# climate_tool.show()"
   ]
  },
  {
   "cell_type": "code",
   "execution_count": null,
   "metadata": {},
   "outputs": [],
   "source": []
  }
 ],
 "metadata": {
  "kernelspec": {
   "display_name": "Python 3",
   "language": "python",
   "name": "python3"
  },
  "language_info": {
   "codemirror_mode": {
    "name": "ipython",
    "version": 3
   },
   "file_extension": ".py",
   "mimetype": "text/x-python",
   "name": "python",
   "nbconvert_exporter": "python",
   "pygments_lexer": "ipython3",
   "version": "3.7.3"
  }
 },
 "nbformat": 4,
 "nbformat_minor": 4
}
